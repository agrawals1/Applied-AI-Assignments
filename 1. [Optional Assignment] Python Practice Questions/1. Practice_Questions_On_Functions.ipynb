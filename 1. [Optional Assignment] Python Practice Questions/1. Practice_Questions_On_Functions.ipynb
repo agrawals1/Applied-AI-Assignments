{
 "cells": [
  {
   "cell_type": "code",
   "execution_count": null,
   "id": "1a96e8a4",
   "metadata": {},
   "outputs": [],
   "source": [
    "#1. Write a function that inputs a number and prints the multiplication table of that number\n",
    "\n",
    "num = input(\"Enter number\")\n",
    "for i in range(1,10):\n",
    "    print(\"{} * {} = {}\".format(num, i, int(num)*i))"
   ]
  },
  {
   "cell_type": "code",
   "execution_count": null,
   "id": "fdd767a6",
   "metadata": {},
   "outputs": [],
   "source": [
    "# 2. Write a program to print twin primes less than 1000. If two consecutive odd numbers are\n",
    "# both prime then they are known as twin primes\n",
    "import math\n",
    "# import pdb\n",
    "def IsPrime(n):\n",
    "    if n==1:\n",
    "        return False\n",
    "    for i in range(2, n):                \n",
    "        if n%i == 0:\n",
    "            return False\n",
    "    return True\n",
    "primes = list(filter(IsPrime, [i for i in range(2,1000)]))\n",
    "twin = []\n",
    "for i in range(len(primes)-1):\n",
    "    if primes[i+1]-primes[i] == 2:\n",
    "        twin.append((primes[i],primes[i+1]))\n",
    "print(twin)        "
   ]
  },
  {
   "cell_type": "code",
   "execution_count": null,
   "id": "12e1aad9",
   "metadata": {},
   "outputs": [],
   "source": [
    "# 3. Write a program to find out the prime factors of a number. Example: prime factors of 56 -\n",
    "# 2, 2, 2, 7"
   ]
  },
  {
   "cell_type": "code",
   "execution_count": null,
   "id": "620cc153",
   "metadata": {},
   "outputs": [],
   "source": [
    "import pdb\n",
    "num = int(input(\"enter number\\n\"))\n",
    "prime_factors = []\n",
    "def P_F(num):\n",
    "    #pdb.set_trace()\n",
    "    for i in range(2, num+1):\n",
    "        if num%i == 0 and IsPrime(i):\n",
    "            prime_factors.append(i)\n",
    "            P_F(int(num/i))\n",
    "            break\n",
    "P_F(num)            \n",
    "print(prime_factors)        "
   ]
  },
  {
   "cell_type": "code",
   "execution_count": null,
   "id": "fa9a9757",
   "metadata": {},
   "outputs": [],
   "source": [
    "# 4. Write a program to implement these formulae of permutations and combinations.\n",
    "# Number of permutations of n objects taken r at a time: p(n, r) = n! / (n-r)!. Number of\n",
    "# combinations of n objects taken r at a time is: c(n, r) = n! / (r!*(n-r)!) = p(n,r) / r!\n",
    "\n",
    "def fact(n):\n",
    "    if n>1 and isinstance(n, int):\n",
    "        return n*fact(n-1)\n",
    "    if n==1:\n",
    "        return 1\n",
    "    \n",
    "n = int(input(\"n\"))\n",
    "r = int(input(\"r\"))\n",
    "n_fact = fact(n)\n",
    "r_fact = fact(r)\n",
    "n_r_fact = fact(n-r)\n",
    "nPr = n_fact/n_r_fact\n",
    "nCr = n_fact/(n_r_fact*r_fact)\n",
    "print(\"permutations are {} and combinations are {}\".format(int(nPr),int(nCr)))"
   ]
  },
  {
   "cell_type": "code",
   "execution_count": null,
   "id": "2d9dc2e8",
   "metadata": {},
   "outputs": [],
   "source": [
    "# 5. Write a function that converts a decimal number to binary number\n",
    "def DecToBin(n):\n",
    "    if n:\n",
    "        stack.append(n%2)\n",
    "        DecToBin(int(n/2))\n",
    "from collections import deque\n",
    "stack = deque()\n",
    "n = int(input(\"enter number\"))\n",
    "DecToBin(n)\n",
    "bin_digits = len(stack)\n",
    "for digit in range(bin_digits):\n",
    "    print(stack.pop(), end=\" \")\n"
   ]
  },
  {
   "cell_type": "code",
   "execution_count": null,
   "id": "39af929d",
   "metadata": {},
   "outputs": [],
   "source": [
    "# 6. Write a function cubesum() that accepts an integer and returns the sum of the cubes of\n",
    "# individual digits of that number. Use this function to make functions PrintArmstrong() and\n",
    "# isArmstrong() to print Armstrong numbers and to find whether is an Armstrong number.\n",
    "\n",
    "n = input(\"enter number\")\n",
    "\n",
    "def cubesum(n):\n",
    "    num_list = []\n",
    "    for char in n:\n",
    "        num_list.append(int(char))\n",
    "    sum_num = sum([x**3 for x in num_list])   \n",
    "    return sum_num\n",
    "\n",
    "def isArmstrong(n):\n",
    "    return int(n) == cubesum(n)\n",
    "\n",
    "def printArmstrong(k):\n",
    "    for i in range(int(k)):\n",
    "        if isArmstrong(str(i)):\n",
    "            print(i)\n",
    "    \n",
    "    \n",
    "# print(cubesum(n))\n",
    "# print(isArmstrong(n))\n",
    "printArmstrong(n)"
   ]
  },
  {
   "cell_type": "code",
   "execution_count": null,
   "id": "78baed68",
   "metadata": {},
   "outputs": [],
   "source": [
    "# 7. Write a function prodDigits() that inputs a number and returns the product of digits of that\n",
    "# number.\n",
    "\n",
    "n = input(\"enter number\")\n",
    "\n",
    "def prodDigits(n):\n",
    "    pi = 1\n",
    "    for char in n:\n",
    "        pi*=int(char)   \n",
    "    return pi\n",
    "\n",
    "print(prodDigits(n))"
   ]
  },
  {
   "cell_type": "code",
   "execution_count": null,
   "id": "4eee7670",
   "metadata": {},
   "outputs": [],
   "source": [
    "# 8. If all digits of a number n are multiplied by each other repeating with the product, the one\n",
    "# digit number obtained at last is called the multiplicative digital root of n. The number of\n",
    "# times digits need to be multiplied to reach one digit is called the multiplicative\n",
    "# persistance of n.\n",
    "# Example: 86 -> 48 -> 32 -> 6 (MDR 6, MPersistence 3)\n",
    "# 341 -> 12->2\n",
    "# (MDR 2, MPersistence 2)\n",
    "# Using the function prodDigits() of previous exercise write functions MDR() and\n",
    "# MPersistence() that input a number and return its multiplicative digital root and\n",
    "# multiplicative persistence respectively\n",
    "c = 0\n",
    "n = input(\"enter number\")\n",
    "def MDR(n):\n",
    "    if n>9:        \n",
    "        MPersistence()\n",
    "        return MDR(prodDigits(str(n)))\n",
    "    return n   \n",
    "        \n",
    "def MPersistence():\n",
    "    global c\n",
    "    c+=1\n",
    "    \n",
    "print(MDR(int(n)))\n",
    "print(c)"
   ]
  },
  {
   "cell_type": "code",
   "execution_count": 1,
   "id": "d8d30393",
   "metadata": {},
   "outputs": [],
   "source": [
    "# 9. Write a function sumPdivisors() that finds the sum of proper divisors of a number. Proper\n",
    "# divisors of a number are those numbers by which the number is divisible, except the\n",
    "# number itself. For example proper divisors of 36 are 1, 2, 3, 4, 6, 9, 18\n",
    "# n = int(input())\n",
    "def sumPdivisors(n):\n",
    "    mysum = 0\n",
    "    for num in range(1,n//2+1):\n",
    "        if not n%num:\n",
    "            mysum+=num\n",
    "    return mysum        \n",
    "# print(sumPdivisors(n))        "
   ]
  },
  {
   "cell_type": "code",
   "execution_count": null,
   "id": "ba3d3bfb",
   "metadata": {},
   "outputs": [],
   "source": [
    "# A number is called perfect if the sum of proper divisors of that number is equal to the\n",
    "# number. For example 28 is perfect number, since 1+2+4+7+14=28. Write a program to\n",
    "# print all the perfect numbers in a given range\n",
    "\n",
    "for n in range(100):\n",
    "    if n == sumPdivisors(n):\n",
    "        print(n)"
   ]
  },
  {
   "cell_type": "code",
   "execution_count": 2,
   "id": "fed5c151",
   "metadata": {},
   "outputs": [
    {
     "name": "stdout",
     "output_type": "stream",
     "text": [
      "enter number284\n",
      "6 6\n",
      "28 28\n",
      "220 284\n",
      "284 220\n"
     ]
    }
   ],
   "source": [
    "# 11. Two different numbers are called amicable numbers if the sum of the proper divisors of\n",
    "# each is equal to the other number. For example 220 and 284 are amicable numbers.Sum of proper divisors of 220 = 1+2+4+5+10+11+20+22+44+55+110 = 284\n",
    "# Sum of proper divisors of 284 = 1+2+4+71+142 = 220\n",
    "# Write a function to print pairs of amicable numbers in a range\n",
    "import pdb\n",
    "n = int(input(\"enter number\"))\n",
    "\n",
    "divsums = [sumPdivisors(x) for x in range(1,n+1)]\n",
    "for i,val in enumerate(divsums):\n",
    "    #pdb.set_trace()\n",
    "    try:\n",
    "        if divsums[val-1] == i+1:\n",
    "            print(i+1,val)\n",
    "    except:\n",
    "        pass\n",
    "        "
   ]
  },
  {
   "cell_type": "code",
   "execution_count": 3,
   "id": "1238ce78",
   "metadata": {},
   "outputs": [
    {
     "name": "stdout",
     "output_type": "stream",
     "text": [
      "[1, 3, 5, 7, 9, 11, 13, 15, 17, 19, 21, 23, 25, 27, 29, 31, 33, 35, 37, 39, 41, 43, 45, 47, 49, 51, 53, 55, 57, 59, 61, 63, 65, 67, 69, 71, 73, 75, 77, 79, 81, 83, 85, 87, 89, 91, 93, 95, 97, 99]\n"
     ]
    }
   ],
   "source": [
    "# 12. Write a program which can filter odd numbers in a list by using filter function\n",
    "\n",
    "print(list(filter(lambda x:x%2==1, range(100))))"
   ]
  },
  {
   "cell_type": "code",
   "execution_count": 5,
   "id": "f1b62beb",
   "metadata": {},
   "outputs": [
    {
     "name": "stdout",
     "output_type": "stream",
     "text": [
      "[0, 1, 8, 27, 64, 125, 216, 343, 512, 729]\n"
     ]
    }
   ],
   "source": [
    "# 13. Write a program which can map() to make a list whose elements are cube of elements in\n",
    "# a given list\n",
    "\n",
    "print(list(map(lambda x:x**3, range(10))))"
   ]
  },
  {
   "cell_type": "code",
   "execution_count": 6,
   "id": "224437cf",
   "metadata": {},
   "outputs": [
    {
     "name": "stdout",
     "output_type": "stream",
     "text": [
      "[0, 8, 64, 216, 512, 1000]\n"
     ]
    }
   ],
   "source": [
    "# Write a program which can map() and filter() to make a list whose elements are cube of\n",
    "# even number in a given list\n",
    "\n",
    "print(list(map(lambda x:x**3, list(filter(lambda x:x%2==0, range(11))))))"
   ]
  },
  {
   "cell_type": "code",
   "execution_count": null,
   "id": "ea74ab7d",
   "metadata": {},
   "outputs": [],
   "source": []
  }
 ],
 "metadata": {
  "kernelspec": {
   "display_name": "Python 3 (ipykernel)",
   "language": "python",
   "name": "python3"
  },
  "language_info": {
   "codemirror_mode": {
    "name": "ipython",
    "version": 3
   },
   "file_extension": ".py",
   "mimetype": "text/x-python",
   "name": "python",
   "nbconvert_exporter": "python",
   "pygments_lexer": "ipython3",
   "version": "3.10.4"
  }
 },
 "nbformat": 4,
 "nbformat_minor": 5
}
